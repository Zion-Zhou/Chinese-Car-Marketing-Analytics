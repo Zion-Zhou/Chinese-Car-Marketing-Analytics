{
 "cells": [
  {
   "cell_type": "code",
   "execution_count": 1,
   "metadata": {},
   "outputs": [],
   "source": [
    "from selenium import webdriver\n",
    "import pandas as pd\n",
    "import time\n",
    "from bs4 import BeautifulSoup\n",
    "import re\n",
    "from fontTools.ttLib import TTFont\n",
    "import requests\n",
    "from lxml import html"
   ]
  },
  {
   "cell_type": "code",
   "execution_count": null,
   "metadata": {},
   "outputs": [],
   "source": [
    "car_lst={'沃尔沃S90':'http://newcar.xcar.com.cn/3382/#clicklog=125311', '宝马5系':'http://newcar.xcar.com.cn/22/#clicklog=125311',\n",
    "        '雷克萨斯ES':'http://newcar.xcar.com.cn/389/#clicklog=124582', '奥迪Q5L': 'http://newcar.xcar.com.cn/3865/#clicklog=124582',\n",
    "        '凯迪拉克CT5':'http://newcar.xcar.com.cn/4628/#clicklog=125311', '奥迪A4L':'http://newcar.xcar.com.cn/553/#clicklog=125311',\n",
    "        '宝马3系':'http://newcar.xcar.com.cn/21/#clicklog=125311','凯迪拉克CT5':'http://newcar.xcar.com.cn/4628/#clicklog=125311',\n",
    "         '奥迪A4L':'http://newcar.xcar.com.cn/553/#clicklog=125311','奔驰C':'http://newcar.xcar.com.cn/39/', \n",
    "         '奔驰E': 'http://newcar.xcar.com.cn/40/'}"
   ]
  },
  {
   "cell_type": "code",
   "execution_count": null,
   "metadata": {},
   "outputs": [],
   "source": [
    "score_dict={}\n",
    "for name,url in car_lst.items():\n",
    "    driver = webdriver.Firefox()\n",
    "    driver.get(url)\n",
    "    driver.find_element_by_link_text('口碑').click()\n",
    "    time.sleep(2)\n",
    "    score_lst = driver.find_element_by_class_name('column').text.split()\n",
    "    score = {score_lst[i*2]:score_lst[i*2+1] for i in range(int(len(score_lst)/2))}\n",
    "    driver.close()\n",
    "    score_dict[name]=score\n",
    "score_df = pd.DataFrame(score_dict).T"
   ]
  },
  {
   "cell_type": "code",
   "execution_count": null,
   "metadata": {},
   "outputs": [],
   "source": [
    "score_df .to_csv('score_df.csv',encoding='utf_8_sig')"
   ]
  }
 ],
 "metadata": {
  "kernelspec": {
   "display_name": "Python 3",
   "language": "python",
   "name": "python3"
  },
  "language_info": {
   "codemirror_mode": {
    "name": "ipython",
    "version": 3
   },
   "file_extension": ".py",
   "mimetype": "text/x-python",
   "name": "python",
   "nbconvert_exporter": "python",
   "pygments_lexer": "ipython3",
   "version": "3.7.6"
  }
 },
 "nbformat": 4,
 "nbformat_minor": 4
}
