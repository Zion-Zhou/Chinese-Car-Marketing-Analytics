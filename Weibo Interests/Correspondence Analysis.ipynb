{
 "cells": [
  {
   "cell_type": "code",
   "execution_count": 25,
   "metadata": {
    "colab": {},
    "colab_type": "code",
    "id": "wuoygsP45Bz9"
   },
   "outputs": [],
   "source": [
    "import pandas as pd\n",
    "import os\n",
    "from collections import Counter\n",
    "import prince\n",
    "import matplotlib.pyplot as plt\n",
    "from adjustText import adjust_text"
   ]
  },
  {
   "cell_type": "code",
   "execution_count": 17,
   "metadata": {
    "colab": {
     "base_uri": "https://localhost:8080/",
     "height": 34
    },
    "colab_type": "code",
    "id": "CACUWFVr54oK",
    "outputId": "1c495efa-2e09-4e62-adf6-3e65c56cbd41"
   },
   "outputs": [
    {
     "name": "stdout",
     "output_type": "stream",
     "text": [
      "Drive already mounted at /content/drive; to attempt to forcibly remount, call drive.mount(\"/content/drive\", force_remount=True).\n"
     ]
    }
   ],
   "source": [
    "from google.colab import drive\n",
    "drive.mount('/content/drive')"
   ]
  },
  {
   "cell_type": "code",
   "execution_count": 0,
   "metadata": {
    "colab": {},
    "colab_type": "code",
    "id": "ZhPGWaqR5_3H"
   },
   "outputs": [],
   "source": [
    "os.chdir('/content/drive/My Drive/HKU/MSBA 7018 Markting Analytics/Group Project/Weibo Tag')"
   ]
  },
  {
   "cell_type": "code",
   "execution_count": 213,
   "metadata": {
    "colab": {},
    "colab_type": "code",
    "id": "MJnv2GIY5B0C"
   },
   "outputs": [],
   "source": [
    "files = os.listdir()"
   ]
  },
  {
   "cell_type": "code",
   "execution_count": 214,
   "metadata": {
    "colab": {},
    "colab_type": "code",
    "id": "SqHVl-Ir5B0H"
   },
   "outputs": [],
   "source": [
    "comb_data=pd.DataFrame()\n",
    "for f in files:\n",
    "    if f.endswith('_o.csv'):\n",
    "        df = pd.read_csv(f,index_col=0)\n",
    "        df['from'] = f.split('_')[0]\n",
    "        df.drop_duplicates(keep='first',inplace=True)\n",
    "        comb_data = pd.concat([comb_data,df],ignore_index=True)"
   ]
  },
  {
   "cell_type": "code",
   "execution_count": 215,
   "metadata": {
    "colab": {
     "base_uri": "https://localhost:8080/",
     "height": 34
    },
    "colab_type": "code",
    "id": "m1wtq7Nn5B0K",
    "outputId": "5dbe46c9-28f7-4a7c-e48c-5808cae5066e"
   },
   "outputs": [
    {
     "data": {
      "text/plain": [
       "2780"
      ]
     },
     "execution_count": 215,
     "metadata": {},
     "output_type": "execute_result"
    }
   ],
   "source": [
    "len(comb_data)"
   ]
  },
  {
   "cell_type": "code",
   "execution_count": 216,
   "metadata": {
    "colab": {
     "base_uri": "https://localhost:8080/",
     "height": 195
    },
    "colab_type": "code",
    "id": "4dDeIUKF640F",
    "outputId": "c1a54e3c-ba18-4796-ac56-7d782f8c7b3f"
   },
   "outputs": [
    {
     "data": {
      "text/html": [
       "<div>\n",
       "<style scoped>\n",
       "    .dataframe tbody tr th:only-of-type {\n",
       "        vertical-align: middle;\n",
       "    }\n",
       "\n",
       "    .dataframe tbody tr th {\n",
       "        vertical-align: top;\n",
       "    }\n",
       "\n",
       "    .dataframe thead th {\n",
       "        text-align: right;\n",
       "    }\n",
       "</style>\n",
       "<table border=\"1\" class=\"dataframe\">\n",
       "  <thead>\n",
       "    <tr style=\"text-align: right;\">\n",
       "      <th></th>\n",
       "      <th>name</th>\n",
       "      <th>uid</th>\n",
       "      <th>gender</th>\n",
       "      <th>region</th>\n",
       "      <th>tag</th>\n",
       "      <th>from</th>\n",
       "    </tr>\n",
       "  </thead>\n",
       "  <tbody>\n",
       "    <tr>\n",
       "      <th>0</th>\n",
       "      <td>潮流风景线</td>\n",
       "      <td>https://weibo.com/u/2700753641</td>\n",
       "      <td>male</td>\n",
       "      <td>河南</td>\n",
       "      <td>闺女徐贤要幸福, 罗塘人家, 爱情小白, 凯迪拉克SRX</td>\n",
       "      <td>凯迪拉克</td>\n",
       "    </tr>\n",
       "    <tr>\n",
       "      <th>1</th>\n",
       "      <td>扣_扣_扣扣篮</td>\n",
       "      <td>https://weibo.com/szeyuen1008</td>\n",
       "      <td>male</td>\n",
       "      <td>广东</td>\n",
       "      <td>英语, 篮球, 爱狗, 衛蘭, 周傑倫, 保时捷, 凯迪拉克, 别克, 雷克萨斯, 起亚</td>\n",
       "      <td>凯迪拉克</td>\n",
       "    </tr>\n",
       "    <tr>\n",
       "      <th>2</th>\n",
       "      <td>凯迪拉克长春宏明品鉴中心</td>\n",
       "      <td>https://weibo.com/726260820</td>\n",
       "      <td>male</td>\n",
       "      <td>吉林</td>\n",
       "      <td>凯迪拉克, 促销, 管理, 销售, 营销, 市场, 百年历史, 美国品牌, 豪华车, 汽车</td>\n",
       "      <td>凯迪拉克</td>\n",
       "    </tr>\n",
       "    <tr>\n",
       "      <th>3</th>\n",
       "      <td>北巷草猫</td>\n",
       "      <td>https://weibo.com/libamao</td>\n",
       "      <td>male</td>\n",
       "      <td>江苏</td>\n",
       "      <td>IT数码, 军事, 旅游, 新闻资讯, 汽车, 打球, 凯迪拉克</td>\n",
       "      <td>凯迪拉克</td>\n",
       "    </tr>\n",
       "    <tr>\n",
       "      <th>4</th>\n",
       "      <td>凯迪拉克大本营</td>\n",
       "      <td>https://weibo.com/u/2375199402</td>\n",
       "      <td>male</td>\n",
       "      <td>广东</td>\n",
       "      <td>凯迪拉克, CTS, 轿跑, 钻石切割, SLS, 凯雷德, 豪华车, SRX, 汽车, 赛威</td>\n",
       "      <td>凯迪拉克</td>\n",
       "    </tr>\n",
       "  </tbody>\n",
       "</table>\n",
       "</div>"
      ],
      "text/plain": [
       "           name                             uid gender region  \\\n",
       "0         潮流风景线  https://weibo.com/u/2700753641   male     河南   \n",
       "1       扣_扣_扣扣篮   https://weibo.com/szeyuen1008   male     广东   \n",
       "2  凯迪拉克长春宏明品鉴中心     https://weibo.com/726260820   male     吉林   \n",
       "3          北巷草猫       https://weibo.com/libamao   male     江苏   \n",
       "4       凯迪拉克大本营  https://weibo.com/u/2375199402   male     广东   \n",
       "\n",
       "                                               tag  from  \n",
       "0                     闺女徐贤要幸福, 罗塘人家, 爱情小白, 凯迪拉克SRX  凯迪拉克  \n",
       "1     英语, 篮球, 爱狗, 衛蘭, 周傑倫, 保时捷, 凯迪拉克, 别克, 雷克萨斯, 起亚  凯迪拉克  \n",
       "2    凯迪拉克, 促销, 管理, 销售, 营销, 市场, 百年历史, 美国品牌, 豪华车, 汽车  凯迪拉克  \n",
       "3                 IT数码, 军事, 旅游, 新闻资讯, 汽车, 打球, 凯迪拉克  凯迪拉克  \n",
       "4  凯迪拉克, CTS, 轿跑, 钻石切割, SLS, 凯雷德, 豪华车, SRX, 汽车, 赛威  凯迪拉克  "
      ]
     },
     "execution_count": 216,
     "metadata": {},
     "output_type": "execute_result"
    }
   ],
   "source": [
    "comb_data.head()"
   ]
  },
  {
   "cell_type": "code",
   "execution_count": 217,
   "metadata": {
    "colab": {},
    "colab_type": "code",
    "id": "F_rMLKUsZSki"
   },
   "outputs": [],
   "source": [
    "stat_table = pd.DataFrame()\n",
    "brand_name = list(set(comb_data['from']))\n",
    "for brand in brand_name:\n",
    "    sub = comb_data.loc[comb_data['from']==brand]\n",
    "    tot = len(sub)\n",
    "    tag_lst = sub['tag'].to_list()\n",
    "    result = []\n",
    "    for tags in tag_lst:\n",
    "        ele = tags.split(', ')\n",
    "        result = result + ele\n",
    "    counter1 = Counter(result)\n",
    "    counter2 = {}\n",
    "    for tag,num in counter1.items():\n",
    "        if num > 10 and tag not in brand_name and tag != \" \":\n",
    "            counter2[tag]=num\n",
    "    stat = pd.DataFrame(data = counter2, index=[brand])\n",
    "    stat_table = pd.concat([stat_table, stat], axis=0)\n"
   ]
  },
  {
   "cell_type": "code",
   "execution_count": 218,
   "metadata": {
    "colab": {
     "base_uri": "https://localhost:8080/",
     "height": 402
    },
    "colab_type": "code",
    "id": "SyHaibruZst-",
    "outputId": "5d255a2e-a546-4da1-d2e0-cccd92e3e530"
   },
   "outputs": [
    {
     "data": {
      "text/html": [
       "<div>\n",
       "<style scoped>\n",
       "    .dataframe tbody tr th:only-of-type {\n",
       "        vertical-align: middle;\n",
       "    }\n",
       "\n",
       "    .dataframe tbody tr th {\n",
       "        vertical-align: top;\n",
       "    }\n",
       "\n",
       "    .dataframe thead th {\n",
       "        text-align: right;\n",
       "    }\n",
       "</style>\n",
       "<table border=\"1\" class=\"dataframe\">\n",
       "  <thead>\n",
       "    <tr style=\"text-align: right;\">\n",
       "      <th></th>\n",
       "      <th>凯迪拉克</th>\n",
       "      <th>宝马</th>\n",
       "      <th>奔驰</th>\n",
       "      <th>奥迪</th>\n",
       "      <th>沃尔沃</th>\n",
       "      <th>雷克萨斯</th>\n",
       "    </tr>\n",
       "  </thead>\n",
       "  <tbody>\n",
       "    <tr>\n",
       "      <th>篮球</th>\n",
       "      <td>14.000</td>\n",
       "      <td>0.001</td>\n",
       "      <td>0.001</td>\n",
       "      <td>0.001</td>\n",
       "      <td>0.001</td>\n",
       "      <td>12.000</td>\n",
       "    </tr>\n",
       "    <tr>\n",
       "      <th>汽车</th>\n",
       "      <td>49.000</td>\n",
       "      <td>106.000</td>\n",
       "      <td>89.000</td>\n",
       "      <td>87.000</td>\n",
       "      <td>72.000</td>\n",
       "      <td>55.000</td>\n",
       "    </tr>\n",
       "    <tr>\n",
       "      <th>IT数码</th>\n",
       "      <td>13.000</td>\n",
       "      <td>0.001</td>\n",
       "      <td>0.001</td>\n",
       "      <td>0.001</td>\n",
       "      <td>0.001</td>\n",
       "      <td>0.001</td>\n",
       "    </tr>\n",
       "    <tr>\n",
       "      <th>旅游</th>\n",
       "      <td>54.000</td>\n",
       "      <td>43.000</td>\n",
       "      <td>45.000</td>\n",
       "      <td>46.000</td>\n",
       "      <td>35.000</td>\n",
       "      <td>30.000</td>\n",
       "    </tr>\n",
       "    <tr>\n",
       "      <th></th>\n",
       "      <td>11.000</td>\n",
       "      <td>56.000</td>\n",
       "      <td>45.000</td>\n",
       "      <td>32.000</td>\n",
       "      <td>33.000</td>\n",
       "      <td>18.000</td>\n",
       "    </tr>\n",
       "    <tr>\n",
       "      <th>...</th>\n",
       "      <td>...</td>\n",
       "      <td>...</td>\n",
       "      <td>...</td>\n",
       "      <td>...</td>\n",
       "      <td>...</td>\n",
       "      <td>...</td>\n",
       "    </tr>\n",
       "    <tr>\n",
       "      <th>林海峰</th>\n",
       "      <td>0.001</td>\n",
       "      <td>0.001</td>\n",
       "      <td>0.001</td>\n",
       "      <td>0.001</td>\n",
       "      <td>47.000</td>\n",
       "      <td>0.001</td>\n",
       "    </tr>\n",
       "    <tr>\n",
       "      <th>三菱沃尔沃宾利</th>\n",
       "      <td>0.001</td>\n",
       "      <td>0.001</td>\n",
       "      <td>0.001</td>\n",
       "      <td>0.001</td>\n",
       "      <td>18.000</td>\n",
       "      <td>0.001</td>\n",
       "    </tr>\n",
       "    <tr>\n",
       "      <th>沃尔沃天籁</th>\n",
       "      <td>0.001</td>\n",
       "      <td>0.001</td>\n",
       "      <td>0.001</td>\n",
       "      <td>0.001</td>\n",
       "      <td>14.000</td>\n",
       "      <td>0.001</td>\n",
       "    </tr>\n",
       "    <tr>\n",
       "      <th>丰田</th>\n",
       "      <td>0.001</td>\n",
       "      <td>0.001</td>\n",
       "      <td>0.001</td>\n",
       "      <td>0.001</td>\n",
       "      <td>0.001</td>\n",
       "      <td>13.000</td>\n",
       "    </tr>\n",
       "    <tr>\n",
       "      <th>雷克萨斯雷佐</th>\n",
       "      <td>0.001</td>\n",
       "      <td>0.001</td>\n",
       "      <td>0.001</td>\n",
       "      <td>0.001</td>\n",
       "      <td>0.001</td>\n",
       "      <td>14.000</td>\n",
       "    </tr>\n",
       "  </tbody>\n",
       "</table>\n",
       "<p>88 rows × 6 columns</p>\n",
       "</div>"
      ],
      "text/plain": [
       "           凯迪拉克       宝马      奔驰      奥迪     沃尔沃    雷克萨斯\n",
       "篮球       14.000    0.001   0.001   0.001   0.001  12.000\n",
       "汽车       49.000  106.000  89.000  87.000  72.000  55.000\n",
       "IT数码     13.000    0.001   0.001   0.001   0.001   0.001\n",
       "旅游       54.000   43.000  45.000  46.000  35.000  30.000\n",
       "         11.000   56.000  45.000  32.000  33.000  18.000\n",
       "...         ...      ...     ...     ...     ...     ...\n",
       "林海峰       0.001    0.001   0.001   0.001  47.000   0.001\n",
       "三菱沃尔沃宾利   0.001    0.001   0.001   0.001  18.000   0.001\n",
       "沃尔沃天籁     0.001    0.001   0.001   0.001  14.000   0.001\n",
       "丰田        0.001    0.001   0.001   0.001   0.001  13.000\n",
       "雷克萨斯雷佐    0.001    0.001   0.001   0.001   0.001  14.000\n",
       "\n",
       "[88 rows x 6 columns]"
      ]
     },
     "execution_count": 218,
     "metadata": {},
     "output_type": "execute_result"
    }
   ],
   "source": [
    "stat_table = stat_table.fillna(0.001).T\n",
    "stat_table"
   ]
  },
  {
   "cell_type": "code",
   "execution_count": 219,
   "metadata": {},
   "outputs": [],
   "source": [
    "adj_table = pd.DataFrame()\n",
    "for row in range(len(stat_table)):\n",
    "    sub = stat_table.iloc[row,].tolist()\n",
    "    if max(sub)>2*min(sub):\n",
    "        adj_table = pd.concat([adj_table,stat_table.iloc[row:row+1,]])\n",
    "    "
   ]
  },
  {
   "cell_type": "code",
   "execution_count": 220,
   "metadata": {},
   "outputs": [
    {
     "data": {
      "text/html": [
       "<div>\n",
       "<style scoped>\n",
       "    .dataframe tbody tr th:only-of-type {\n",
       "        vertical-align: middle;\n",
       "    }\n",
       "\n",
       "    .dataframe tbody tr th {\n",
       "        vertical-align: top;\n",
       "    }\n",
       "\n",
       "    .dataframe thead th {\n",
       "        text-align: right;\n",
       "    }\n",
       "</style>\n",
       "<table border=\"1\" class=\"dataframe\">\n",
       "  <thead>\n",
       "    <tr style=\"text-align: right;\">\n",
       "      <th></th>\n",
       "      <th>凯迪拉克</th>\n",
       "      <th>宝马</th>\n",
       "      <th>奔驰</th>\n",
       "      <th>奥迪</th>\n",
       "      <th>沃尔沃</th>\n",
       "      <th>雷克萨斯</th>\n",
       "    </tr>\n",
       "  </thead>\n",
       "  <tbody>\n",
       "    <tr>\n",
       "      <th>篮球</th>\n",
       "      <td>14.000</td>\n",
       "      <td>0.001</td>\n",
       "      <td>0.001</td>\n",
       "      <td>0.001</td>\n",
       "      <td>0.001</td>\n",
       "      <td>12.000</td>\n",
       "    </tr>\n",
       "    <tr>\n",
       "      <th>汽车</th>\n",
       "      <td>49.000</td>\n",
       "      <td>106.000</td>\n",
       "      <td>89.000</td>\n",
       "      <td>87.000</td>\n",
       "      <td>72.000</td>\n",
       "      <td>55.000</td>\n",
       "    </tr>\n",
       "    <tr>\n",
       "      <th>IT数码</th>\n",
       "      <td>13.000</td>\n",
       "      <td>0.001</td>\n",
       "      <td>0.001</td>\n",
       "      <td>0.001</td>\n",
       "      <td>0.001</td>\n",
       "      <td>0.001</td>\n",
       "    </tr>\n",
       "    <tr>\n",
       "      <th></th>\n",
       "      <td>11.000</td>\n",
       "      <td>56.000</td>\n",
       "      <td>45.000</td>\n",
       "      <td>32.000</td>\n",
       "      <td>33.000</td>\n",
       "      <td>18.000</td>\n",
       "    </tr>\n",
       "    <tr>\n",
       "      <th>电影</th>\n",
       "      <td>52.000</td>\n",
       "      <td>27.000</td>\n",
       "      <td>44.000</td>\n",
       "      <td>47.000</td>\n",
       "      <td>21.000</td>\n",
       "      <td>23.000</td>\n",
       "    </tr>\n",
       "    <tr>\n",
       "      <th>...</th>\n",
       "      <td>...</td>\n",
       "      <td>...</td>\n",
       "      <td>...</td>\n",
       "      <td>...</td>\n",
       "      <td>...</td>\n",
       "      <td>...</td>\n",
       "    </tr>\n",
       "    <tr>\n",
       "      <th>林海峰</th>\n",
       "      <td>0.001</td>\n",
       "      <td>0.001</td>\n",
       "      <td>0.001</td>\n",
       "      <td>0.001</td>\n",
       "      <td>47.000</td>\n",
       "      <td>0.001</td>\n",
       "    </tr>\n",
       "    <tr>\n",
       "      <th>三菱沃尔沃宾利</th>\n",
       "      <td>0.001</td>\n",
       "      <td>0.001</td>\n",
       "      <td>0.001</td>\n",
       "      <td>0.001</td>\n",
       "      <td>18.000</td>\n",
       "      <td>0.001</td>\n",
       "    </tr>\n",
       "    <tr>\n",
       "      <th>沃尔沃天籁</th>\n",
       "      <td>0.001</td>\n",
       "      <td>0.001</td>\n",
       "      <td>0.001</td>\n",
       "      <td>0.001</td>\n",
       "      <td>14.000</td>\n",
       "      <td>0.001</td>\n",
       "    </tr>\n",
       "    <tr>\n",
       "      <th>丰田</th>\n",
       "      <td>0.001</td>\n",
       "      <td>0.001</td>\n",
       "      <td>0.001</td>\n",
       "      <td>0.001</td>\n",
       "      <td>0.001</td>\n",
       "      <td>13.000</td>\n",
       "    </tr>\n",
       "    <tr>\n",
       "      <th>雷克萨斯雷佐</th>\n",
       "      <td>0.001</td>\n",
       "      <td>0.001</td>\n",
       "      <td>0.001</td>\n",
       "      <td>0.001</td>\n",
       "      <td>0.001</td>\n",
       "      <td>14.000</td>\n",
       "    </tr>\n",
       "  </tbody>\n",
       "</table>\n",
       "<p>87 rows × 6 columns</p>\n",
       "</div>"
      ],
      "text/plain": [
       "           凯迪拉克       宝马      奔驰      奥迪     沃尔沃    雷克萨斯\n",
       "篮球       14.000    0.001   0.001   0.001   0.001  12.000\n",
       "汽车       49.000  106.000  89.000  87.000  72.000  55.000\n",
       "IT数码     13.000    0.001   0.001   0.001   0.001   0.001\n",
       "         11.000   56.000  45.000  32.000  33.000  18.000\n",
       "电影       52.000   27.000  44.000  47.000  21.000  23.000\n",
       "...         ...      ...     ...     ...     ...     ...\n",
       "林海峰       0.001    0.001   0.001   0.001  47.000   0.001\n",
       "三菱沃尔沃宾利   0.001    0.001   0.001   0.001  18.000   0.001\n",
       "沃尔沃天籁     0.001    0.001   0.001   0.001  14.000   0.001\n",
       "丰田        0.001    0.001   0.001   0.001   0.001  13.000\n",
       "雷克萨斯雷佐    0.001    0.001   0.001   0.001   0.001  14.000\n",
       "\n",
       "[87 rows x 6 columns]"
      ]
     },
     "execution_count": 220,
     "metadata": {},
     "output_type": "execute_result"
    }
   ],
   "source": [
    "adj_table"
   ]
  },
  {
   "cell_type": "code",
   "execution_count": 221,
   "metadata": {
    "colab": {},
    "colab_type": "code",
    "id": "CYBNDLm4Zswp"
   },
   "outputs": [],
   "source": [
    "ca=prince.CA(\n",
    "     n_components=2,\n",
    "     n_iter=20,\n",
    "     copy=True,\n",
    "     check_input=True,\n",
    "     engine='auto',\n",
    "     random_state=44\n",
    ")\n",
    "stat_table.columns.rename(\"carnames\",inplace=True)\n",
    "stat_table.index.rename(\"tags\",inplace=True)\n",
    "ca=ca.fit(adj_table)"
   ]
  },
  {
   "cell_type": "code",
   "execution_count": 222,
   "metadata": {},
   "outputs": [
    {
     "data": {
      "image/png": "[encoded data removed]",
      "text/plain": [
       "<Figure size 1080x1080 with 1 Axes>"
      ]
     },
     "metadata": {
      "needs_background": "light"
     },
     "output_type": "display_data"
    }
   ],
   "source": [
    "ax = ca.plot_coordinates(\n",
    "    X=adj_table,\n",
    "    ax=None,\n",
    "    figsize=(15,15),\n",
    "    x_component=0,\n",
    "    y_component=1,\n",
    "    show_row_labels=True,\n",
    "    show_col_labels=True\n",
    ")\n",
    "plt.xlim(-1,2.5)\n",
    "plt.ylim(-1,1.7)\n",
    "plt.rcParams['font.sans-serif']=['SimHei'] #显示中文标签\n",
    "plt.rcParams['axes.unicode_minus']=False\n",
    "plt.rcParams['font.size'] = 10\n",
    "ax.get_figure().savefig('figure.png')\n",
    "#ax.get_figure()"
   ]
  }
 ],
 "metadata": {
  "colab": {
   "name": "2.9.ipynb",
   "provenance": []
  },
  "kernelspec": {
   "display_name": "Python 3",
   "language": "python",
   "name": "python3"
  },
  "language_info": {
   "codemirror_mode": {
    "name": "ipython",
    "version": 3
   },
   "file_extension": ".py",
   "mimetype": "text/x-python",
   "name": "python",
   "nbconvert_exporter": "python",
   "pygments_lexer": "ipython3",
   "version": "3.7.6"
  }
 },
 "nbformat": 4,
 "nbformat_minor": 1
}
