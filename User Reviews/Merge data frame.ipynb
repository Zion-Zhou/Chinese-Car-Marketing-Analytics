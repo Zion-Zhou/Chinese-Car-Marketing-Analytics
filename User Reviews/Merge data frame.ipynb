{
 "cells": [
  {
   "cell_type": "code",
   "execution_count": 1,
   "metadata": {
    "colab": {},
    "colab_type": "code",
    "id": "TVUhgM5FVgtB"
   },
   "outputs": [],
   "source": [
    "import pandas as pd"
   ]
  },
  {
   "cell_type": "code",
   "execution_count": 2,
   "metadata": {},
   "outputs": [],
   "source": [
    "car_lst=['沃尔沃S90', '宝马5系','雷克萨斯ES', '奥迪Q5L', '凯迪拉克CT5', '奥迪A4L','宝马3系']"
   ]
  },
  {
   "cell_type": "code",
   "execution_count": 3,
   "metadata": {},
   "outputs": [],
   "source": [
    "for car in car_lst:\n",
    "    PC = pd.read_csv(car+'_PCAuto.csv',index_col=0)\n",
    "    XC = pd.read_csv(car+'_Xcar.csv',index_col=0)\n",
    "    PC = PC.rename(columns={\"购买车型\":'car type','购买时间':'purch time', '购买地点':'purch place', \n",
    "                         '裸车价格':'purch price', '平均油耗':'avg rate',\n",
    "                         '行驶里程':'cum mileage'})\n",
    "    XC = XC.rename(columns={'爱车车型':'car type','购入时间':'purch time', '购车地点':'purch place', \n",
    "                         '裸车价格':'purch price', '当前油耗':'avg rate',\n",
    "                         'purch_purp':'purch purp','simple_review':'simple review'})\n",
    "    result = pd.concat([XC, PC], axis=0, ignore_index=True, sort=False)\n",
    "    result.to_csv(car+'_Combined.csv',encoding='utf_8_sig')"
   ]
  },
  {
   "cell_type": "code",
   "execution_count": null,
   "metadata": {},
   "outputs": [],
   "source": []
  }
 ],
 "metadata": {
  "colab": {
   "name": "Try",
   "provenance": []
  },
  "kernelspec": {
   "display_name": "Python 3",
   "language": "python",
   "name": "python3"
  },
  "language_info": {
   "codemirror_mode": {
    "name": "ipython",
    "version": 3
   },
   "file_extension": ".py",
   "mimetype": "text/x-python",
   "name": "python",
   "nbconvert_exporter": "python",
   "pygments_lexer": "ipython3",
   "version": "3.7.6"
  }
 },
 "nbformat": 4,
 "nbformat_minor": 1
}
