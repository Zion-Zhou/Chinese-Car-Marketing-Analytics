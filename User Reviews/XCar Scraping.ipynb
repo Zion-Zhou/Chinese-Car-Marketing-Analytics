{
 "cells": [
  {
   "cell_type": "code",
   "execution_count": 1,
   "metadata": {},
   "outputs": [],
   "source": [
    "from selenium import webdriver\n",
    "import pandas as pd\n",
    "import time\n",
    "from bs4 import BeautifulSoup\n",
    "import re\n",
    "from fontTools.ttLib import TTFont\n",
    "import requests\n",
    "from lxml import html"
   ]
  },
  {
   "cell_type": "code",
   "execution_count": 4,
   "metadata": {},
   "outputs": [],
   "source": [
    "car_lst={'沃尔沃S90':'http://newcar.xcar.com.cn/3382/#clicklog=125311', '宝马5系':'http://newcar.xcar.com.cn/22/#clicklog=125311',\n",
    "        '雷克萨斯ES':'http://newcar.xcar.com.cn/389/#clicklog=124582', '奥迪Q5L': 'http://newcar.xcar.com.cn/3865/#clicklog=124582',\n",
    "        '凯迪拉克CT5':'http://newcar.xcar.com.cn/4628/#clicklog=125311', '奥迪A4L':'http://newcar.xcar.com.cn/553/#clicklog=125311',\n",
    "        '宝马3系':'http://newcar.xcar.com.cn/21/#clicklog=125311','凯迪拉克CT5':'http://newcar.xcar.com.cn/4628/#clicklog=125311',\n",
    "         '奥迪A4L':'http://newcar.xcar.com.cn/553/#clicklog=125311','奔驰C':'http://newcar.xcar.com.cn/39/', \n",
    "         '奔驰E': 'http://newcar.xcar.com.cn/40/'}"
   ]
  },
  {
   "cell_type": "code",
   "execution_count": 6,
   "metadata": {},
   "outputs": [],
   "source": [
    "for name,url in car_lst.items():\n",
    "    driver = webdriver.Firefox()\n",
    "    driver.get(url)\n",
    "    driver.find_element_by_link_text('口碑').click()\n",
    "    time.sleep(2)\n",
    "    basic_score_raw = driver.find_element_by_class_name('column').text.split()\n",
    "    basic_score = {basic_score_raw[i*2]:basic_score_raw[i*2+1] for i in range(int(len(basic_score_raw)/2))}\n",
    "    post_dict = {}\n",
    "    for page in range(50):\n",
    "        body = driver.find_elements_by_class_name('alibi_wrap')[1]\n",
    "        imp_lst = body.find_elements_by_class_name('home_list.clearfix')\n",
    "        for imp in imp_lst:\n",
    "            try:\n",
    "                purch_info = imp.find_element_by_class_name('list_infor')\n",
    "                info_lst = purch_info.find_elements_by_class_name('clearfix')\n",
    "                info_dict = {info_lst[i].text.split('\\n')[0]: info_lst[i].text.split('\\n')[1] for i in range(len(info_lst))}\n",
    "            except:\n",
    "                info_dict = {}\n",
    "            try:\n",
    "                info_dict['publish time'] = imp.find_element_by_class_name('publish').text.split()[1]\n",
    "            except:\n",
    "                info_dict['publish time'] = ''\n",
    "            try:\n",
    "                score_lst = imp.find_element_by_class_name('score_list').text.split()\n",
    "                score = {score_lst[i*2]:score_lst[i*2+1] for i in range(int(len(score_lst)/2))}\n",
    "                info_dict['score'] = score\n",
    "            except:\n",
    "                info_dict['score'] = ''\n",
    "            try:\n",
    "                purch_purp = imp.find_element_by_class_name('purpose.clearfix').text.split()\n",
    "                info_dict['purch_purp'] = purch_purp\n",
    "            except:\n",
    "                info_dict['purch_purp'] = ''\n",
    "            try:\n",
    "                info_dict['simple_review'] = imp.find_element_by_class_name('jia_text').text\n",
    "            except:\n",
    "                info_dict['simple_review'] = ''\n",
    "            try:\n",
    "                imp.find_element_by_link_text('展开全部').click()\n",
    "                review = imp.find_element_by_class_name('review_post').text\n",
    "                info_dict['review'] = review\n",
    "            except:\n",
    "                try:\n",
    "                    review = imp.find_element_by_class_name('review_post').text\n",
    "                    info_dict['review'] = review\n",
    "                except:\n",
    "                    info_dict['review'] = ''\n",
    "            post_dict[len(post_dict)] = info_dict\n",
    "            time.sleep(5)\n",
    "        try:\n",
    "            driver.find_element_by_class_name('page_down').click()\n",
    "        except:\n",
    "            break\n",
    "        time.sleep(5)\n",
    "    driver.close()\n",
    "    post_df = pd.DataFrame(post_dict).T\n",
    "    post_df.to_csv(name+'_XCar.csv',encoding='utf_8_sig')"
   ]
  }
 ],
 "metadata": {
  "kernelspec": {
   "display_name": "Python 3",
   "language": "python",
   "name": "python3"
  },
  "language_info": {
   "codemirror_mode": {
    "name": "ipython",
    "version": 3
   },
   "file_extension": ".py",
   "mimetype": "text/x-python",
   "name": "python",
   "nbconvert_exporter": "python",
   "pygments_lexer": "ipython3",
   "version": "3.7.6"
  }
 },
 "nbformat": 4,
 "nbformat_minor": 4
}
