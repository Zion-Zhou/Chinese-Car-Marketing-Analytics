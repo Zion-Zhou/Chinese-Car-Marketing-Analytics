{
 "cells": [
  {
   "cell_type": "code",
   "execution_count": 12,
   "metadata": {},
   "outputs": [],
   "source": [
    "from selenium import webdriver\n",
    "import pandas as pd\n",
    "import time\n",
    "from bs4 import BeautifulSoup\n",
    "import re"
   ]
  },
  {
   "cell_type": "code",
   "execution_count": 4,
   "metadata": {},
   "outputs": [],
   "source": [
    "car_lst={'沃尔沃S90':'https://price.pcauto.com.cn/comment/sg20543/', '宝马5系':'https://price.pcauto.com.cn/comment/sg441/',\n",
    "        '雷克萨斯ES':'https://price.pcauto.com.cn/comment/sg36/', '奥迪Q5L': 'https://price.pcauto.com.cn/comment/sg4457/',\n",
    "         '凯迪拉克CT5':'https://price.pcauto.com.cn/comment/sg24885/', '奥迪A4L':'https://price.pcauto.com.cn/comment/sg3524/',\n",
    "         '宝马3系':'https://price.pcauto.com.cn/comment/sg424/', '奔驰C':'https://price.pcauto.com.cn/comment/sg3178/', \n",
    "         '奔驰E': 'https://price.pcauto.com.cn/comment/sg1603/'}"
   ]
  },
  {
   "cell_type": "code",
   "execution_count": 7,
   "metadata": {},
   "outputs": [],
   "source": [
    "for name,url in car_lst.items():\n",
    "    driver = webdriver.Firefox()\n",
    "    driver.get(url)\n",
    "    post_dict = {}\n",
    "    for page in range(100):\n",
    "        imp_lst = driver.find_elements_by_class_name('litDy.clearfix')\n",
    "        for imp in imp_lst:\n",
    "            try:\n",
    "                purch_info = imp.find_elements_by_class_name('line')\n",
    "                info_dict = {purch_info[i].text[:4]: purch_info[i].text[4:] for i in range(len(purch_info))}\n",
    "            except:\n",
    "                info_dict = {}\n",
    "            try:\n",
    "                info_dict['publish time'] = imp.find_element_by_class_name('txline').text.split()[1]\n",
    "            except:\n",
    "                info_dict['publish time'] = ''\n",
    "            try:\n",
    "                scores = imp.find_element_by_class_name('fzbox').find_element_by_xpath('ul').text.split()\n",
    "                info_dict['score'] = {scores[i*2]:scores[i*2+1] for i in range(int(len(scores)/2))}\n",
    "            except:\n",
    "                info_dict['score'] = ''\n",
    "            try:\n",
    "                info_dict['review'] = imp.find_element_by_class_name('dianPing.clearfix').text\n",
    "            except:\n",
    "                info_dict['review'] = ''\n",
    "            post_dict[len(post_dict)] = info_dict\n",
    "        time.sleep(2)\n",
    "        try:\n",
    "            driver.find_element_by_link_text('下一页').click()\n",
    "        except:\n",
    "            break\n",
    "        time.sleep(3)\n",
    "    driver.close()\n",
    "    post_df = pd.DataFrame(post_dict).T\n",
    "    del post_df['购买商家']\n",
    "    post_df.to_csv(name+'_PCAuto.csv',encoding='utf_8_sig')"
   ]
  },
  {
   "cell_type": "code",
   "execution_count": 8,
   "metadata": {},
   "outputs": [],
   "source": [
    "car_lst={'凯迪拉克CT5':'https://price.pcauto.com.cn/comment/sg24885/', '奥迪A4L':'https://price.pcauto.com.cn/comment/sg3524/',\n",
    "        '宝马3系':'https://price.pcauto.com.cn/comment/sg424/'}"
   ]
  },
  {
   "cell_type": "code",
   "execution_count": 11,
   "metadata": {},
   "outputs": [],
   "source": [
    "car_lst={'奥迪A4L':'https://price.pcauto.com.cn/comment/sg3524/'}"
   ]
  },
  {
   "cell_type": "code",
   "execution_count": 13,
   "metadata": {},
   "outputs": [],
   "source": [
    "for name,url in car_lst.items():\n",
    "    driver = webdriver.Firefox()\n",
    "    driver.get(url)\n",
    "    post_dict = {}\n",
    "    for page in range(100):\n",
    "        imp_lst = driver.find_elements_by_class_name('litDy.clearfix')\n",
    "        for imp in imp_lst:\n",
    "            try:\n",
    "                purch_info = imp.find_elements_by_class_name('line')\n",
    "                info_dict = {purch_info[i].text[:4]: purch_info[i].text[4:] for i in range(len(purch_info))}\n",
    "            except:\n",
    "                info_dict = {}\n",
    "            try:\n",
    "                info_dict['publish time'] = imp.find_element_by_class_name('txline').text.split()[1]\n",
    "            except:\n",
    "                info_dict['publish time'] = ''\n",
    "            try:\n",
    "                scores = imp.find_element_by_class_name('fzbox').find_element_by_xpath('ul').text.split()\n",
    "                info_dict['score'] = {scores[i*2]:scores[i*2+1] for i in range(int(len(scores)/2))}\n",
    "            except:\n",
    "                info_dict['score'] = ''\n",
    "            try:\n",
    "                info_dict['review'] = imp.find_element_by_class_name('dianPing.clearfix').text\n",
    "            except:\n",
    "                info_dict['review'] = ''\n",
    "            post_dict[len(post_dict)] = info_dict\n",
    "        time.sleep(2)\n",
    "        try:\n",
    "            driver.find_element_by_link_text('下一页').click()\n",
    "        except:\n",
    "            break\n",
    "        time.sleep(3)\n",
    "    driver.close()\n",
    "    post_df = pd.DataFrame(post_dict).T\n",
    "    try:\n",
    "        del post_df['购买商家']\n",
    "        post_df.to_csv(name+'_PCAuto.csv',encoding='utf_8_sig')\n",
    "    except:\n",
    "        post_df.to_csv(name+'_PCAuto.csv',encoding='utf_8_sig')"
   ]
  },
  {
   "cell_type": "code",
   "execution_count": null,
   "metadata": {},
   "outputs": [],
   "source": []
  }
 ],
 "metadata": {
  "kernelspec": {
   "display_name": "Python 3",
   "language": "python",
   "name": "python3"
  },
  "language_info": {
   "codemirror_mode": {
    "name": "ipython",
    "version": 3
   },
   "file_extension": ".py",
   "mimetype": "text/x-python",
   "name": "python",
   "nbconvert_exporter": "python",
   "pygments_lexer": "ipython3",
   "version": "3.7.6"
  }
 },
 "nbformat": 4,
 "nbformat_minor": 4
}
